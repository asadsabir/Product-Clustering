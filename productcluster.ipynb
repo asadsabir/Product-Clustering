{
 "cells": [
  {
   "cell_type": "code",
   "execution_count": 1,
   "metadata": {},
   "outputs": [],
   "source": [
    "import pandas as pd\n",
    "import numpy as np\n",
    "from sklearn.metrics import mutual_info_score"
   ]
  },
  {
   "cell_type": "code",
   "execution_count": 3,
   "metadata": {},
   "outputs": [],
   "source": [
    " \n",
    "def shan_entropy(c):\n",
    "    c_normalized = c / float(np.sum(c))\n",
    "    c_normalized = c_normalized[np.nonzero(c_normalized)]\n",
    "    H = -sum(c_normalized* np.log2(c_normalized))  \n",
    "    return H\n",
    "\n",
    "def calc_MI(X,Y,bins):\n",
    " \n",
    "    c_XY = np.histogram2d(X,Y,bins)[0]\n",
    "    c_X = np.histogram(X,bins)[0]\n",
    "    c_Y = np.histogram(Y,bins)[0]\n",
    " \n",
    "    H_X = shan_entropy(c_X)\n",
    "    H_Y = shan_entropy(c_Y)\n",
    "    H_XY = shan_entropy(c_XY)\n",
    " \n",
    "    MI = H_X + H_Y - H_XY\n",
    "    return MI\n",
    "\n",
    "\n",
    "\n"
   ]
  },
  {
   "cell_type": "code",
   "execution_count": 4,
   "metadata": {},
   "outputs": [],
   "source": [
    "A = np.array([[ 2.0,  140.0,  128.23, -150.5, -5.4  ],\n",
    "              [ 2.4,  153.11, 130.34, -130.1, -9.5  ],\n",
    "              [ 1.2,  156.9,  120.11, -110.45,-1.12 ]])\n",
    " \n"
   ]
  },
  {
   "cell_type": "code",
   "execution_count": 5,
   "metadata": {},
   "outputs": [
    {
     "data": {
      "text/plain": [
       "array([[0.       , 1.5849625, 1.5849625, 1.5849625, 1.5849625],\n",
       "       [0.       , 0.       , 1.5849625, 1.5849625, 1.5849625],\n",
       "       [0.       , 0.       , 0.       , 1.5849625, 1.5849625],\n",
       "       [0.       , 0.       , 0.       , 0.       , 1.5849625],\n",
       "       [0.       , 0.       , 0.       , 0.       , 0.       ]])"
      ]
     },
     "execution_count": 5,
     "metadata": {},
     "output_type": "execute_result"
    }
   ],
   "source": [
    "matMI"
   ]
  },
  {
   "cell_type": "code",
   "execution_count": 6,
   "metadata": {},
   "outputs": [],
   "source": [
    "from sklearn.metrics import mutual_info_score\n",
    "\n",
    "def calc_MI(x, y, bins):\n",
    "    c_xy = np.histogram2d(x, y, bins)[0]\n",
    "    mi = mutual_info_score(None, None, contingency=c_xy)\n",
    "    return mi"
   ]
  },
  {
   "cell_type": "code",
   "execution_count": null,
   "metadata": {},
   "outputs": [],
   "source": [
    "bins = 5 # ?\n",
    "n = A.shape[1]\n",
    "matMI = np.zeros((n, n))\n",
    " \n",
    "for ix in np.arange(n):\n",
    "    for jx in np.arange(ix+1,n):\n",
    "        matMI[ix,jx] = calc_MI(A[:,ix], A[:,jx], bins)"
   ]
  },
  {
   "cell_type": "code",
   "execution_count": null,
   "metadata": {},
   "outputs": [],
   "source": [
    "df = pd.read_csv('fragr.csv')\n",
    "bins = 50 #take care of this as well\n",
    "Locations = df['Location'].unique()\n",
    "\n",
    "out = {}\n",
    "for store in Locations:\n",
    "    selected = df[df['Location'] == store] #drop location and date\n",
    "\n",
    "    n = selected.shape[1]\n",
    "    matMI = np.zeros((n,n))\n",
    "\n",
    "    for ix in np.arrange(n):\n",
    "        for jx in np.arrange(ix+1,n):\n",
    "            matMI[ix,jx] = calc_MI(selected.loc[:,ix],selected.loc[:,jx],bins)\n",
    "    out[store] = pd.Dataframe(columns= selected.columns,index = selected.columns)\n",
    "    \n",
    "\n"
   ]
  }
 ],
 "metadata": {
  "kernelspec": {
   "display_name": "base",
   "language": "python",
   "name": "python3"
  },
  "language_info": {
   "codemirror_mode": {
    "name": "ipython",
    "version": 3
   },
   "file_extension": ".py",
   "mimetype": "text/x-python",
   "name": "python",
   "nbconvert_exporter": "python",
   "pygments_lexer": "ipython3",
   "version": "3.11.4"
  },
  "orig_nbformat": 4
 },
 "nbformat": 4,
 "nbformat_minor": 2
}
